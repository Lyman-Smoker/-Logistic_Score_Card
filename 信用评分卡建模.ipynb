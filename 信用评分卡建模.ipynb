{
 "cells": [
  {
   "cell_type": "code",
   "execution_count": 1,
   "metadata": {},
   "outputs": [],
   "source": [
    "import numpy as np\n",
    "import pandas as pd\n",
    "from sklearn.ensemble import RandomForestRegressor\n",
    "from sklearn.model_selection import train_test_split\n",
    "from pandas import Series\n",
    "import matplotlib.pyplot as plt\n",
    "import seaborn as sns\n",
    "import scipy.stats as stats\n",
    "import warnings"
   ]
  },
  {
   "cell_type": "markdown",
   "metadata": {},
   "source": [
    "## 1 数据清洗审阅与清洗"
   ]
  },
  {
   "cell_type": "markdown",
   "metadata": {},
   "source": [
    "### 1.1 数据读入"
   ]
  },
  {
   "cell_type": "code",
   "execution_count": 2,
   "metadata": {},
   "outputs": [
    {
     "data": {
      "text/html": [
       "<div>\n",
       "<style scoped>\n",
       "    .dataframe tbody tr th:only-of-type {\n",
       "        vertical-align: middle;\n",
       "    }\n",
       "\n",
       "    .dataframe tbody tr th {\n",
       "        vertical-align: top;\n",
       "    }\n",
       "\n",
       "    .dataframe thead th {\n",
       "        text-align: right;\n",
       "    }\n",
       "</style>\n",
       "<table border=\"1\" class=\"dataframe\">\n",
       "  <thead>\n",
       "    <tr style=\"text-align: right;\">\n",
       "      <th></th>\n",
       "      <th>SeriousDlqin2yrs</th>\n",
       "      <th>RevolvingUtilizationOfUnsecuredLines</th>\n",
       "      <th>age</th>\n",
       "      <th>NumberOfTime30-59DaysPastDueNotWorse</th>\n",
       "      <th>DebtRatio</th>\n",
       "      <th>MonthlyIncome</th>\n",
       "      <th>NumberOfOpenCreditLinesAndLoans</th>\n",
       "      <th>NumberOfTimes90DaysLate</th>\n",
       "      <th>NumberRealEstateLoansOrLines</th>\n",
       "      <th>NumberOfTime60-89DaysPastDueNotWorse</th>\n",
       "      <th>NumberOfDependents</th>\n",
       "    </tr>\n",
       "  </thead>\n",
       "  <tbody>\n",
       "    <tr>\n",
       "      <th>0</th>\n",
       "      <td>1</td>\n",
       "      <td>0.766127</td>\n",
       "      <td>45</td>\n",
       "      <td>2</td>\n",
       "      <td>0.802982</td>\n",
       "      <td>9120.0</td>\n",
       "      <td>13</td>\n",
       "      <td>0</td>\n",
       "      <td>6</td>\n",
       "      <td>0</td>\n",
       "      <td>2.0</td>\n",
       "    </tr>\n",
       "    <tr>\n",
       "      <th>1</th>\n",
       "      <td>0</td>\n",
       "      <td>0.957151</td>\n",
       "      <td>40</td>\n",
       "      <td>0</td>\n",
       "      <td>0.121876</td>\n",
       "      <td>2600.0</td>\n",
       "      <td>4</td>\n",
       "      <td>0</td>\n",
       "      <td>0</td>\n",
       "      <td>0</td>\n",
       "      <td>1.0</td>\n",
       "    </tr>\n",
       "    <tr>\n",
       "      <th>2</th>\n",
       "      <td>0</td>\n",
       "      <td>0.658180</td>\n",
       "      <td>38</td>\n",
       "      <td>1</td>\n",
       "      <td>0.085113</td>\n",
       "      <td>3042.0</td>\n",
       "      <td>2</td>\n",
       "      <td>1</td>\n",
       "      <td>0</td>\n",
       "      <td>0</td>\n",
       "      <td>0.0</td>\n",
       "    </tr>\n",
       "    <tr>\n",
       "      <th>3</th>\n",
       "      <td>0</td>\n",
       "      <td>0.233810</td>\n",
       "      <td>30</td>\n",
       "      <td>0</td>\n",
       "      <td>0.036050</td>\n",
       "      <td>3300.0</td>\n",
       "      <td>5</td>\n",
       "      <td>0</td>\n",
       "      <td>0</td>\n",
       "      <td>0</td>\n",
       "      <td>0.0</td>\n",
       "    </tr>\n",
       "    <tr>\n",
       "      <th>4</th>\n",
       "      <td>0</td>\n",
       "      <td>0.907239</td>\n",
       "      <td>49</td>\n",
       "      <td>1</td>\n",
       "      <td>0.024926</td>\n",
       "      <td>63588.0</td>\n",
       "      <td>7</td>\n",
       "      <td>0</td>\n",
       "      <td>1</td>\n",
       "      <td>0</td>\n",
       "      <td>0.0</td>\n",
       "    </tr>\n",
       "    <tr>\n",
       "      <th>...</th>\n",
       "      <td>...</td>\n",
       "      <td>...</td>\n",
       "      <td>...</td>\n",
       "      <td>...</td>\n",
       "      <td>...</td>\n",
       "      <td>...</td>\n",
       "      <td>...</td>\n",
       "      <td>...</td>\n",
       "      <td>...</td>\n",
       "      <td>...</td>\n",
       "      <td>...</td>\n",
       "    </tr>\n",
       "    <tr>\n",
       "      <th>149995</th>\n",
       "      <td>0</td>\n",
       "      <td>0.040674</td>\n",
       "      <td>74</td>\n",
       "      <td>0</td>\n",
       "      <td>0.225131</td>\n",
       "      <td>2100.0</td>\n",
       "      <td>4</td>\n",
       "      <td>0</td>\n",
       "      <td>1</td>\n",
       "      <td>0</td>\n",
       "      <td>0.0</td>\n",
       "    </tr>\n",
       "    <tr>\n",
       "      <th>149996</th>\n",
       "      <td>0</td>\n",
       "      <td>0.299745</td>\n",
       "      <td>44</td>\n",
       "      <td>0</td>\n",
       "      <td>0.716562</td>\n",
       "      <td>5584.0</td>\n",
       "      <td>4</td>\n",
       "      <td>0</td>\n",
       "      <td>1</td>\n",
       "      <td>0</td>\n",
       "      <td>2.0</td>\n",
       "    </tr>\n",
       "    <tr>\n",
       "      <th>149997</th>\n",
       "      <td>0</td>\n",
       "      <td>0.246044</td>\n",
       "      <td>58</td>\n",
       "      <td>0</td>\n",
       "      <td>3870.000000</td>\n",
       "      <td>NaN</td>\n",
       "      <td>18</td>\n",
       "      <td>0</td>\n",
       "      <td>1</td>\n",
       "      <td>0</td>\n",
       "      <td>0.0</td>\n",
       "    </tr>\n",
       "    <tr>\n",
       "      <th>149998</th>\n",
       "      <td>0</td>\n",
       "      <td>0.000000</td>\n",
       "      <td>30</td>\n",
       "      <td>0</td>\n",
       "      <td>0.000000</td>\n",
       "      <td>5716.0</td>\n",
       "      <td>4</td>\n",
       "      <td>0</td>\n",
       "      <td>0</td>\n",
       "      <td>0</td>\n",
       "      <td>0.0</td>\n",
       "    </tr>\n",
       "    <tr>\n",
       "      <th>149999</th>\n",
       "      <td>0</td>\n",
       "      <td>0.850283</td>\n",
       "      <td>64</td>\n",
       "      <td>0</td>\n",
       "      <td>0.249908</td>\n",
       "      <td>8158.0</td>\n",
       "      <td>8</td>\n",
       "      <td>0</td>\n",
       "      <td>2</td>\n",
       "      <td>0</td>\n",
       "      <td>0.0</td>\n",
       "    </tr>\n",
       "  </tbody>\n",
       "</table>\n",
       "<p>150000 rows × 11 columns</p>\n",
       "</div>"
      ],
      "text/plain": [
       "        SeriousDlqin2yrs  RevolvingUtilizationOfUnsecuredLines  age  \\\n",
       "0                      1                              0.766127   45   \n",
       "1                      0                              0.957151   40   \n",
       "2                      0                              0.658180   38   \n",
       "3                      0                              0.233810   30   \n",
       "4                      0                              0.907239   49   \n",
       "...                  ...                                   ...  ...   \n",
       "149995                 0                              0.040674   74   \n",
       "149996                 0                              0.299745   44   \n",
       "149997                 0                              0.246044   58   \n",
       "149998                 0                              0.000000   30   \n",
       "149999                 0                              0.850283   64   \n",
       "\n",
       "        NumberOfTime30-59DaysPastDueNotWorse    DebtRatio  MonthlyIncome  \\\n",
       "0                                          2     0.802982         9120.0   \n",
       "1                                          0     0.121876         2600.0   \n",
       "2                                          1     0.085113         3042.0   \n",
       "3                                          0     0.036050         3300.0   \n",
       "4                                          1     0.024926        63588.0   \n",
       "...                                      ...          ...            ...   \n",
       "149995                                     0     0.225131         2100.0   \n",
       "149996                                     0     0.716562         5584.0   \n",
       "149997                                     0  3870.000000            NaN   \n",
       "149998                                     0     0.000000         5716.0   \n",
       "149999                                     0     0.249908         8158.0   \n",
       "\n",
       "        NumberOfOpenCreditLinesAndLoans  NumberOfTimes90DaysLate  \\\n",
       "0                                    13                        0   \n",
       "1                                     4                        0   \n",
       "2                                     2                        1   \n",
       "3                                     5                        0   \n",
       "4                                     7                        0   \n",
       "...                                 ...                      ...   \n",
       "149995                                4                        0   \n",
       "149996                                4                        0   \n",
       "149997                               18                        0   \n",
       "149998                                4                        0   \n",
       "149999                                8                        0   \n",
       "\n",
       "        NumberRealEstateLoansOrLines  NumberOfTime60-89DaysPastDueNotWorse  \\\n",
       "0                                  6                                     0   \n",
       "1                                  0                                     0   \n",
       "2                                  0                                     0   \n",
       "3                                  0                                     0   \n",
       "4                                  1                                     0   \n",
       "...                              ...                                   ...   \n",
       "149995                             1                                     0   \n",
       "149996                             1                                     0   \n",
       "149997                             1                                     0   \n",
       "149998                             0                                     0   \n",
       "149999                             2                                     0   \n",
       "\n",
       "        NumberOfDependents  \n",
       "0                      2.0  \n",
       "1                      1.0  \n",
       "2                      0.0  \n",
       "3                      0.0  \n",
       "4                      0.0  \n",
       "...                    ...  \n",
       "149995                 0.0  \n",
       "149996                 2.0  \n",
       "149997                 0.0  \n",
       "149998                 0.0  \n",
       "149999                 0.0  \n",
       "\n",
       "[150000 rows x 11 columns]"
      ]
     },
     "execution_count": 2,
     "metadata": {},
     "output_type": "execute_result"
    }
   ],
   "source": [
    "# 读入数据\n",
    "train_data=pd.read_csv('./cs-training.csv')\n",
    "\n",
    "# 去除第一列\n",
    "train_data=train_data.iloc[:,1:]\n",
    "\n",
    "train_data"
   ]
  },
  {
   "cell_type": "markdown",
   "metadata": {},
   "source": [
    "下面使用info函数查看训练集的数据情况。"
   ]
  },
  {
   "cell_type": "code",
   "execution_count": 3,
   "metadata": {},
   "outputs": [
    {
     "name": "stdout",
     "output_type": "stream",
     "text": [
      "<class 'pandas.core.frame.DataFrame'>\n",
      "RangeIndex: 150000 entries, 0 to 149999\n",
      "Data columns (total 11 columns):\n",
      " #   Column                                Non-Null Count   Dtype  \n",
      "---  ------                                --------------   -----  \n",
      " 0   SeriousDlqin2yrs                      150000 non-null  int64  \n",
      " 1   RevolvingUtilizationOfUnsecuredLines  150000 non-null  float64\n",
      " 2   age                                   150000 non-null  int64  \n",
      " 3   NumberOfTime30-59DaysPastDueNotWorse  150000 non-null  int64  \n",
      " 4   DebtRatio                             150000 non-null  float64\n",
      " 5   MonthlyIncome                         120269 non-null  float64\n",
      " 6   NumberOfOpenCreditLinesAndLoans       150000 non-null  int64  \n",
      " 7   NumberOfTimes90DaysLate               150000 non-null  int64  \n",
      " 8   NumberRealEstateLoansOrLines          150000 non-null  int64  \n",
      " 9   NumberOfTime60-89DaysPastDueNotWorse  150000 non-null  int64  \n",
      " 10  NumberOfDependents                    146076 non-null  float64\n",
      "dtypes: float64(4), int64(7)\n",
      "memory usage: 12.6 MB\n"
     ]
    }
   ],
   "source": [
    "train_data.info()"
   ]
  },
  {
   "cell_type": "markdown",
   "metadata": {},
   "source": [
    "不难发现，月收入(MonthlyIncome)指标有许多缺失值，而家属人数NumberOfDependents缺失值也存在但是较少。"
   ]
  },
  {
   "cell_type": "markdown",
   "metadata": {},
   "source": [
    "### 1.2 缺失值处理"
   ]
  },
  {
   "cell_type": "markdown",
   "metadata": {},
   "source": [
    "采用随机森林法对MonthlyIncome变量的缺失值进行填充"
   ]
  },
  {
   "cell_type": "code",
   "execution_count": 7,
   "metadata": {},
   "outputs": [],
   "source": [
    "def set_missing(df):\n",
    "    process_df = df.iloc[:,[5,0,1,2,3,4,6,7,8,9]]\n",
    "    # 分成已知特征值和未知特征值两部分\n",
    "    known = process_df[process_df['MonthlyIncome'].notnull()].values # 将表格转换为矩阵\n",
    "    unknown = process_df[process_df['MonthlyIncome'].isnull()].values\n",
    "    # x为特征属性\n",
    "    X = known[:,1:]\n",
    "    # Y为结果标签值,即要预测的MonthlyIncome\n",
    "    Y = known[:,0]\n",
    "    rfr = RandomForestRegressor(random_state=0,n_estimators=200,max_depth=3,n_jobs=-1)\n",
    "    rfr.fit(X,Y)\n",
    "    predicted = rfr.predict(unknown[:,1:]).round(0)\n",
    "    # 用得到的预测结果填补原始缺失数据\n",
    "    df.loc[(df['MonthlyIncome'].isnull()),'MonthlyIncome'] = predicted\n",
    "    return df\n",
    "train_data = set_missing(train_data)"
   ]
  },
  {
   "cell_type": "markdown",
   "metadata": {},
   "source": [
    "特征量NumberOfDependts缺失值较少，直接删除有缺失值的样本"
   ]
  },
  {
   "cell_type": "code",
   "execution_count": 8,
   "metadata": {},
   "outputs": [
    {
     "name": "stdout",
     "output_type": "stream",
     "text": [
      "<class 'pandas.core.frame.DataFrame'>\n",
      "Int64Index: 145563 entries, 0 to 149999\n",
      "Data columns (total 11 columns):\n",
      " #   Column                                Non-Null Count   Dtype  \n",
      "---  ------                                --------------   -----  \n",
      " 0   SeriousDlqin2yrs                      145563 non-null  int64  \n",
      " 1   RevolvingUtilizationOfUnsecuredLines  145563 non-null  float64\n",
      " 2   age                                   145563 non-null  int64  \n",
      " 3   NumberOfTime30-59DaysPastDueNotWorse  145563 non-null  int64  \n",
      " 4   DebtRatio                             145563 non-null  float64\n",
      " 5   MonthlyIncome                         145563 non-null  float64\n",
      " 6   NumberOfOpenCreditLinesAndLoans       145563 non-null  int64  \n",
      " 7   NumberOfTimes90DaysLate               145563 non-null  int64  \n",
      " 8   NumberRealEstateLoansOrLines          145563 non-null  int64  \n",
      " 9   NumberOfTime60-89DaysPastDueNotWorse  145563 non-null  int64  \n",
      " 10  NumberOfDependents                    145563 non-null  float64\n",
      "dtypes: float64(4), int64(7)\n",
      "memory usage: 13.3 MB\n"
     ]
    }
   ],
   "source": [
    "train_data = train_data.dropna() # 删除较少的缺失值\n",
    "train_data = train_data.drop_duplicates() # 删除重复项\n",
    "train_data.to_csv('MissingData.csv',index = False)\n",
    "train_data.info()"
   ]
  },
  {
   "cell_type": "markdown",
   "metadata": {},
   "source": [
    "经过填补和删除缺失值后，所有特征的数据量都为145563"
   ]
  },
  {
   "cell_type": "markdown",
   "metadata": {},
   "source": [
    "### 1.3 异常值处理"
   ]
  },
  {
   "cell_type": "markdown",
   "metadata": {},
   "source": [
    "异常值是指明显偏离大多数抽样数据的数值，比如客户的年龄大于100或小于0时，通常认为该值为异常值。在统计学中，常把低于Q1-1.5IQR的值和高于Q3+1.5IQR的值作为异常值。通过绘制箱型图能很明显的看到异常值。"
   ]
  },
  {
   "cell_type": "code",
   "execution_count": 12,
   "metadata": {},
   "outputs": [
    {
     "data": {
      "image/png": "[encoded data removed]",
      "text/plain": [
       "<Figure size 432x288 with 1 Axes>"
      ]
     },
     "metadata": {},
     "output_type": "display_data"
    }
   ],
   "source": [
    "# 选择3,7,9做箱线图\n",
    "plt.style.use('ggplot')\n",
    "data_box = train_data.iloc[:,[3,7,9]]\n",
    "data_box.boxplot()\n",
    "plt.show()"
   ]
  },
  {
   "cell_type": "markdown",
   "metadata": {},
   "source": [
    "在这三个特征之中有两组样本偏离了其他样本的分布，可以将其去除"
   ]
  },
  {
   "cell_type": "code",
   "execution_count": 13,
   "metadata": {},
   "outputs": [
    {
     "data": {
      "image/png": "[encoded data removed]",
      "text/plain": [
       "<Figure size 432x288 with 1 Axes>"
      ]
     },
     "metadata": {},
     "output_type": "display_data"
    }
   ],
   "source": [
    "# 年龄箱线图\n",
    "dataage = train_data['age'] # series类型\n",
    "dataage = train_data[['age']] # dataframe类型\n",
    "dataage.boxplot()\n",
    "plt.show()"
   ]
  },
  {
   "cell_type": "markdown",
   "metadata": {},
   "source": [
    "age为0的样本，明显是不符合常识的，应同样作为异常值舍弃"
   ]
  },
  {
   "cell_type": "markdown",
   "metadata": {},
   "source": [
    "因此，剔除age为0的样本；以及剔除变量NumberOfTime30-59DaysPastDueNotWorse、NumberOfTimes90DaysLate、NumberOfTime60-89DaysPastDueNotWorse的异常值，剔除其中一个变量的96、98值，其他变量的96、98两个值也会相应被剔除"
   ]
  },
  {
   "cell_type": "code",
   "execution_count": 14,
   "metadata": {},
   "outputs": [],
   "source": [
    "# 剔除异常值\n",
    "train_data = train_data[train_data['age'] > 0]\n",
    "train_data = train_data[train_data['NumberOfTime30-59DaysPastDueNotWorse'] < 90]"
   ]
  },
  {
   "cell_type": "markdown",
   "metadata": {},
   "source": [
    "数据集中好客户为0，违约客户为1，考虑到正常的理解，能正常履约并支付利息的客户为1，所以我们将其取反"
   ]
  },
  {
   "cell_type": "code",
   "execution_count": 16,
   "metadata": {},
   "outputs": [],
   "source": [
    "# 变量SeriousDlqin2yrs取反，处理后即好客户为1，违约客户为0\n",
    "train_data['SeriousDlqin2yrs'] = 1-train_data['SeriousDlqin2yrs']"
   ]
  },
  {
   "cell_type": "markdown",
   "metadata": {},
   "source": [
    "### 1.4 数据切分"
   ]
  },
  {
   "cell_type": "markdown",
   "metadata": {},
   "source": [
    "为了验证模型的拟合效果，需要对数据集进行切分，分成训练集和测试集"
   ]
  },
  {
   "cell_type": "code",
   "execution_count": 17,
   "metadata": {},
   "outputs": [],
   "source": [
    "Y = train_data['SeriousDlqin2yrs']\n",
    "X = train_data.iloc[:,1:]\n",
    "X_train,X_test,Y_train,Y_test = train_test_split(X,Y,test_size = 0.3,random_state=0)\n",
    "train = pd.concat([Y_train,X_train],axis = 1)\n",
    "test = pd.concat([Y_test,X_test],axis = 1)\n",
    "train.to_csv('TrainData.csv',index = False)\n",
    "test.to_csv('TestData.csv',index = False)"
   ]
  },
  {
   "cell_type": "markdown",
   "metadata": {},
   "source": [
    "## 2 探索性分析"
   ]
  },
  {
   "cell_type": "markdown",
   "metadata": {},
   "source": [
    "在建立模型之前，我们一般会对现有的数据进行探索性数据分析（Exploratory Data Analysis）。EDA是指对已有的数据(特别是调查或观察得来的原始数据)在尽量少的先验假定下进行探索。常用的探索性数据分析方法有：直方图、散点图和箱线图等。例如对特征量年龄和月收入进行分析："
   ]
  },
  {
   "cell_type": "markdown",
   "metadata": {},
   "source": [
    "### 2.1 对年龄进行分析"
   ]
  },
  {
   "cell_type": "code",
   "execution_count": 19,
   "metadata": {},
   "outputs": [
    {
     "name": "stderr",
     "output_type": "stream",
     "text": [
      "d:\\my python space\\nlp\\venv_3.7\\lib\\site-packages\\seaborn\\distributions.py:2551: FutureWarning: `distplot` is a deprecated function and will be removed in a future version. Please adapt your code to use either `displot` (a figure-level function with similar flexibility) or `histplot` (an axes-level function for histograms).\n",
      "  warnings.warn(msg, FutureWarning)\n"
     ]
    },
    {
     "data": {
      "image/png": "[encoded data removed]",
      "text/plain": [
       "<Figure size 432x288 with 1 Axes>"
      ]
     },
     "metadata": {},
     "output_type": "display_data"
    }
   ],
   "source": [
    "age = train_data['age']\n",
    "sns.distplot(age)\n",
    "plt.show()"
   ]
  },
  {
   "cell_type": "markdown",
   "metadata": {},
   "source": [
    "年龄的分布大致呈正态分布，符合统计分析假设"
   ]
  },
  {
   "cell_type": "markdown",
   "metadata": {},
   "source": [
    "### 2.2 对收入进行分析"
   ]
  },
  {
   "cell_type": "code",
   "execution_count": 20,
   "metadata": {},
   "outputs": [
    {
     "name": "stderr",
     "output_type": "stream",
     "text": [
      "d:\\my python space\\nlp\\venv_3.7\\lib\\site-packages\\seaborn\\distributions.py:2551: FutureWarning: `distplot` is a deprecated function and will be removed in a future version. Please adapt your code to use either `displot` (a figure-level function with similar flexibility) or `histplot` (an axes-level function for histograms).\n",
      "  warnings.warn(msg, FutureWarning)\n"
     ]
    },
    {
     "data": {
      "image/png": "[encoded data removed]",
      "text/plain": [
       "<Figure size 432x288 with 1 Axes>"
      ]
     },
     "metadata": {},
     "output_type": "display_data"
    }
   ],
   "source": [
    "# 对MonthlyIncome进行分析，为了使图形更直观，将x轴范围设置在50000以内\n",
    "mi = train_data[train_data['MonthlyIncome'] < 50000]['MonthlyIncome']\n",
    "sns.distplot(mi)\n",
    "plt.show()"
   ]
  },
  {
   "cell_type": "markdown",
   "metadata": {},
   "source": [
    "月收入的分布大致呈正态分布，符合统计分析假设"
   ]
  },
  {
   "cell_type": "markdown",
   "metadata": {},
   "source": [
    "## 3 变量选择"
   ]
  },
  {
   "cell_type": "markdown",
   "metadata": {},
   "source": [
    "特征变量选择(排序)决定了模型性能，正确的选择特征变量能够帮助理解数据特点、底层结构，对进一步改善模型、算法均有重要作用。在此我采用通过WOE分析方法选择信用评分模型的变量，即通过比较指标分箱和对应分箱的违约概率来确定指标是否符合经济意义。"
   ]
  },
  {
   "cell_type": "markdown",
   "metadata": {},
   "source": [
    "### 3.1 分箱处理"
   ]
  },
  {
   "cell_type": "markdown",
   "metadata": {},
   "source": [
    "信用评分卡开发一般常用的方法为等距分段、等深分段、最优分段。等距分段（Equval length intervals）是指分段的区间是一致的，比如年龄以十年作为一个分段；等深分段（Equal frequency intervals）是先确定分段数量，然后令每个分段中数据数量大致相等；最优分段（Optimal Binning）又叫监督离散化（supervised discretizaion），使用递归划分（Recursive Partitioning）将连续变量分为分段，背后是一种基于条件推断查找较佳分组的算法。首先选择对连续变量进行最优分段，在连续变量的分布不满足最优分段的要求时，再考虑对连续变量进行等距分段。"
   ]
  },
  {
   "cell_type": "code",
   "execution_count": 36,
   "metadata": {},
   "outputs": [],
   "source": [
    "def mono_bin(Y,X,n = 20):\n",
    "    good = Y.sum()\n",
    "    bad = Y.count() - good\n",
    "    r = 0\n",
    "    while np.abs(r) < 1:\n",
    "        d1 = pd.DataFrame({'X':X,'Y':Y,'Bucket':pd.qcut(X,n)})\n",
    "        d2 = d1.groupby(['Bucket'],as_index = True)\n",
    "        r,p = stats.spearmanr(d2['X'].mean(),d2['Y'].mean()) # spearman秩相关系数是度量两个变量之间的统计相关性的指标\n",
    "        n = n - 1\n",
    "    d3 = pd.DataFrame(d2['X'].min(),columns=['min']) # 为什么是空表\n",
    "    d3['min'] = d2['X'].min()\n",
    "    d3['max'] = d2['X'].max()\n",
    "    d3['sum'] = d2['Y'].sum()\n",
    "    d3['total'] = d2['Y'].count()\n",
    "    d3['rate'] = d2['Y'].mean()\n",
    "    d3['goodattribute'] = d3['sum'] / good\n",
    "    d3['badattribute'] = (d3['total'] - d3['sum']) / bad\n",
    "    d3['woe'] = np.log(d3['goodattribute'] / d3['badattribute'])\n",
    "    iv = ((d3['goodattribute'] - d3['badattribute']) * d3['woe']).sum()\n",
    "#     print(d3)\n",
    "    # 这里原本是index\n",
    "    d4 = d3.sort_values(by=['min'])\n",
    "    woe = list(d4['woe'].values)\n",
    "    print(d4)\n",
    "    print('-' * 30)\n",
    "    cut = []\n",
    "    cut.append(float('-inf'))\n",
    "    for i in range(1,n+1):\n",
    "        qua = X.quantile(i/(n+1)) # quantile求分位数，pos = (n+1)*p，n为数据的总个数，p为0-1之间的值\n",
    "        cut.append(round(qua,4)) # round()方法返回浮点数x的四舍五入值。\n",
    "    cut.append(float('inf'))\n",
    "    return d4,iv,woe,cut"
   ]
  },
  {
   "cell_type": "markdown",
   "metadata": {},
   "source": [
    "使用最优分段对于数据集中的RevolvingUtilizationOfUnsecuredLines、age、DebtRatio和MonthlyIncome进行分类。"
   ]
  },
  {
   "cell_type": "code",
   "execution_count": 37,
   "metadata": {
    "collapsed": true
   },
   "outputs": [
    {
     "name": "stdout",
     "output_type": "stream",
     "text": [
      "                       min           max    sum  total      rate  \\\n",
      "Bucket                                                             \n",
      "(-0.001, 0.0312]  0.000000      0.031215  24941  25437  0.980501   \n",
      "(0.0312, 0.158]   0.031218      0.157927  24895  25437  0.978692   \n",
      "(0.158, 0.558]    0.157928      0.558119  24149  25436  0.949402   \n",
      "(0.558, 50708.0]  0.558127  50708.000000  20949  25437  0.823564   \n",
      "\n",
      "                  goodattribute  badattribute       woe  \n",
      "Bucket                                                   \n",
      "(-0.001, 0.0312]       0.262719      0.072802  1.283343  \n",
      "(0.0312, 0.158]        0.262235      0.079554  1.192807  \n",
      "(0.158, 0.558]         0.254377      0.188904  0.297580  \n",
      "(0.558, 50708.0]       0.220669      0.658741 -1.093666  \n",
      "------------------------------\n",
      "                min  max   sum  total      rate  goodattribute  badattribute  \\\n",
      "Bucket                                                                         \n",
      "(20.999, 31.0]   21   31  7468   8393  0.889789       0.078665      0.135770   \n",
      "(31.0, 36.0]     32   36  6746   7555  0.892919       0.071060      0.118744   \n",
      "(36.0, 40.0]     37   40  7046   7759  0.908107       0.074220      0.104653   \n",
      "(40.0, 43.0]     41   43  5961   6553  0.909660       0.062791      0.086893   \n",
      "(43.0, 46.0]     44   46  6615   7202  0.918495       0.069680      0.086159   \n",
      "(46.0, 49.0]     47   49  7224   7840  0.921429       0.076095      0.090415   \n",
      "(49.0, 52.0]     50   52  6973   7533  0.925660       0.073451      0.082196   \n",
      "(52.0, 55.0]     53   55  6811   7317  0.930846       0.071745      0.074270   \n",
      "(55.0, 58.0]     56   58  6756   7139  0.946351       0.071165      0.056216   \n",
      "(58.0, 61.0]     59   61  6514   6855  0.950255       0.068616      0.050051   \n",
      "(61.0, 64.0]     62   64  6744   7008  0.962329       0.071039      0.038749   \n",
      "(64.0, 68.0]     65   68  6504   6704  0.970167       0.068511      0.029356   \n",
      "(68.0, 74.0]     69   74  6520   6689  0.974735       0.068679      0.024806   \n",
      "(74.0, 103.0]    75  103  7052   7200  0.979444       0.074283      0.021723   \n",
      "\n",
      "                     woe  \n",
      "Bucket                    \n",
      "(20.999, 31.0] -0.545761  \n",
      "(31.0, 36.0]   -0.513443  \n",
      "(36.0, 40.0]   -0.343615  \n",
      "(40.0, 43.0]   -0.324862  \n",
      "(43.0, 46.0]   -0.212279  \n",
      "(46.0, 49.0]   -0.172432  \n",
      "(49.0, 52.0]   -0.112485  \n",
      "(52.0, 55.0]   -0.034592  \n",
      "(55.0, 58.0]    0.235802  \n",
      "(58.0, 61.0]    0.315477  \n",
      "(61.0, 64.0]    0.606110  \n",
      "(64.0, 68.0]    0.847506  \n",
      "(68.0, 74.0]    1.018382  \n",
      "(74.0, 103.0]   1.229505  \n",
      "------------------------------\n",
      "                        min            max    sum  total      rate  \\\n",
      "Bucket                                                               \n",
      "(-0.001, 0.236]    0.000000       0.236159  31922  33916  0.941208   \n",
      "(0.236, 0.547]     0.236160       0.547099  31785  33915  0.937196   \n",
      "(0.547, 307001.0]  0.547112  307001.000000  31227  33916  0.920716   \n",
      "\n",
      "                   goodattribute  badattribute       woe  \n",
      "Bucket                                                    \n",
      "(-0.001, 0.236]         0.336255      0.292676  0.138803  \n",
      "(0.236, 0.547]          0.334812      0.312638  0.068523  \n",
      "(0.547, 307001.0]       0.328934      0.394687 -0.182236  \n",
      "------------------------------\n",
      "                        min        max    sum  total      rate  goodattribute  \\\n",
      "Bucket                                                                          \n",
      "(-0.001, 3400.0]        0.0     3400.0  31500  34162  0.922077       0.331809   \n",
      "(3400.0, 6866.0]     3401.0     6866.0  31209  33674  0.926798       0.328744   \n",
      "(6866.0, 3008750.0]  6867.0  3008750.0  32225  33911  0.950282       0.339446   \n",
      "\n",
      "                     badattribute       woe  \n",
      "Bucket                                       \n",
      "(-0.001, 3400.0]         0.390724 -0.163440  \n",
      "(3400.0, 6866.0]         0.361808 -0.095835  \n",
      "(6866.0, 3008750.0]      0.247468  0.316034  \n",
      "------------------------------\n"
     ]
    }
   ],
   "source": [
    "dfx1,ivx1,woex1,cutx1 = mono_bin(train['SeriousDlqin2yrs'],train['RevolvingUtilizationOfUnsecuredLines'],n = 10) \n",
    "dfx2,ivx2,woex2,cutx2 = mono_bin(train['SeriousDlqin2yrs'],train['age'],n = 20)\n",
    "dfx4,ivx4,woex4,cutx4 = mono_bin(train['SeriousDlqin2yrs'],train['DebtRatio'],n = 10)\n",
    "dfx5,ivx5,woex5,cutx5 = mono_bin(train['SeriousDlqin2yrs'],train['MonthlyIncome'],n = 10)"
   ]
  },
  {
   "cell_type": "markdown",
   "metadata": {},
   "source": [
    "其他变量无法使用最优分箱，使用人工选择的方式进行"
   ]
  },
  {
   "cell_type": "code",
   "execution_count": 39,
   "metadata": {
    "collapsed": true
   },
   "outputs": [
    {
     "name": "stdout",
     "output_type": "stream",
     "text": [
      "             min  max    sum  total      rate  goodattribute  badattribute  \\\n",
      "Bucket                                                                       \n",
      "(-inf, 0.0]    0    0  81862  85334  0.959313       0.862304      0.509614   \n",
      "(0.0, 1.0]     1    1   9467  11139  0.849897       0.099722      0.245413   \n",
      "(1.0, 3.0]     2    3   3102   4363  0.710979       0.032675      0.185087   \n",
      "(3.0, 5.0]     4    5    416    733  0.567531       0.004382      0.046529   \n",
      "(5.0, inf]     6   13     87    178  0.488764       0.000916      0.013357   \n",
      "\n",
      "                  woe  \n",
      "Bucket                 \n",
      "(-inf, 0.0]  0.525955  \n",
      "(0.0, 1.0]  -0.900558  \n",
      "(1.0, 3.0]  -1.734207  \n",
      "(3.0, 5.0]  -2.362566  \n",
      "(5.0, inf]  -2.679301  \n",
      "------------------------------\n",
      "             min  max    sum  total      rate  goodattribute  badattribute  \\\n",
      "Bucket                                                                       \n",
      "(-inf, 1.0]    0    1   3048   3661  0.832559       0.032107      0.089975   \n",
      "(1.0, 2.0]     2    2   3895   4306  0.904552       0.041029      0.060326   \n",
      "(2.0, 3.0]     3    3   5565   6020  0.924419       0.058620      0.066784   \n",
      "(3.0, 5.0]     4    5  15387  16437  0.936120       0.162081      0.154117   \n",
      "(5.0, inf]     6   58  67039  71323  0.939935       0.706164      0.628798   \n",
      "\n",
      "                  woe  \n",
      "Bucket                 \n",
      "(-inf, 1.0] -1.030473  \n",
      "(1.0, 2.0]  -0.385494  \n",
      "(2.0, 3.0]  -0.130395  \n",
      "(3.0, 5.0]   0.050383  \n",
      "(5.0, inf]   0.116038  \n",
      "------------------------------\n",
      "             min  max    sum  total      rate  goodattribute  badattribute  \\\n",
      "Bucket                                                                       \n",
      "(-inf, 0.0]    0    0  91665  96167  0.953186       0.965566      0.660796   \n",
      "(0.0, 1.0]     1    1   2382   3604  0.660932       0.025091      0.179363   \n",
      "(1.0, 3.0]     2    3    731   1552  0.471005       0.007700      0.120505   \n",
      "(3.0, 5.0]     4    5    106    294  0.360544       0.001117      0.027594   \n",
      "(5.0, inf]     6   17     50    130  0.384615       0.000527      0.011742   \n",
      "\n",
      "                  woe  \n",
      "Bucket                 \n",
      "(-inf, 0.0]  0.379270  \n",
      "(0.0, 1.0]  -1.966898  \n",
      "(1.0, 3.0]  -2.750459  \n",
      "(3.0, 5.0]  -3.207352  \n",
      "(5.0, inf]  -3.104353  \n",
      "------------------------------\n",
      "             min  max    sum  total      rate  goodattribute  badattribute  \\\n",
      "Bucket                                                                       \n",
      "(-inf, 0.0]    0    0  33961  37049  0.916651       0.357733      0.453251   \n",
      "(0.0, 1.0]     1    1  34093  35985  0.947423       0.359123      0.277704   \n",
      "(1.0, 2.0]     2    2  20636  21854  0.944266       0.217372      0.178776   \n",
      "(2.0, 3.0]     3    3   4002   4310  0.928538       0.042156      0.045208   \n",
      "(3.0, inf]     4   54   2242   2549  0.879561       0.023616      0.045061   \n",
      "\n",
      "                  woe  \n",
      "Bucket                 \n",
      "(-inf, 0.0] -0.236660  \n",
      "(0.0, 1.0]   0.257108  \n",
      "(1.0, 2.0]   0.195478  \n",
      "(2.0, 3.0]  -0.069900  \n",
      "(3.0, inf]  -0.646074  \n",
      "------------------------------\n",
      "             min  max    sum  total      rate  goodattribute  badattribute  \\\n",
      "Bucket                                                                       \n",
      "(-inf, 0.0]    0    0  91651  96651  0.948267       0.965418      0.733891   \n",
      "(0.0, 1.0]     1    1   2746   3981  0.689776       0.028925      0.181271   \n",
      "(1.0, 3.0]     2    3    486    997  0.487462       0.005119      0.075004   \n",
      "(3.0, inf]     4   11     51    118  0.432203       0.000537      0.009834   \n",
      "\n",
      "                  woe  \n",
      "Bucket                 \n",
      "(-inf, 0.0]  0.274201  \n",
      "(0.0, 1.0]  -1.835275  \n",
      "(1.0, 3.0]  -2.684510  \n",
      "(3.0, inf]  -2.907216  \n",
      "------------------------------\n",
      "             min   max    sum  total      rate  goodattribute  badattribute  \\\n",
      "Bucket                                                                        \n",
      "(-inf, 0.0]  0.0   0.0  56839  60334  0.942072       0.598721      0.512990   \n",
      "(0.0, 1.0]   1.0   1.0  17069  18439  0.925701       0.179799      0.201086   \n",
      "(1.0, 2.0]   2.0   2.0  12538  13628  0.920018       0.132071      0.159988   \n",
      "(2.0, 3.0]   3.0   3.0   6059   6642  0.912225       0.063823      0.085572   \n",
      "(3.0, 5.0]   4.0   5.0   2268   2519  0.900357       0.023890      0.036841   \n",
      "(5.0, inf]   6.0  20.0    161    185  0.870270       0.001696      0.003523   \n",
      "\n",
      "                  woe  \n",
      "Bucket                 \n",
      "(-inf, 0.0]  0.154540  \n",
      "(0.0, 1.0]  -0.111896  \n",
      "(1.0, 2.0]  -0.191763  \n",
      "(2.0, 3.0]  -0.293236  \n",
      "(3.0, 5.0]  -0.433149  \n",
      "(5.0, inf]  -0.730999  \n",
      "------------------------------\n"
     ]
    }
   ],
   "source": [
    "# 针对不能最优分箱的变量\n",
    "def self_bin(Y,X,cat):\n",
    "    good = Y.sum()\n",
    "    bad = Y.count() - good\n",
    "    d1 = pd.DataFrame({'X': X, 'Y': Y, 'Bucket': pd.cut(X, cat)})\n",
    "    d2 = d1.groupby(['Bucket'], as_index=True)\n",
    "    d3 = pd.DataFrame(d2['X'].min(),columns=['min'])\n",
    "    d3['min'] = d2['X'].min()\n",
    "    d3['max'] = d2['X'].max()\n",
    "    d3['sum'] = d2['Y'].sum()\n",
    "    d3['total'] = d2['Y'].count()\n",
    "    d3['rate'] = d2['Y'].mean()\n",
    "    d3['goodattribute'] = d3['sum'] / good\n",
    "    d3['badattribute'] = (d3['total'] - d3['sum']) / bad\n",
    "    # d3['woe'] = np.log((d3['rate'] / (1 - d3['rate'])) / (good / bad))\n",
    "    d3['woe'] = np.log(d3['goodattribute'] / d3['badattribute'])\n",
    "    iv = ((d3['goodattribute'] - d3['badattribute']) * d3['woe']).sum()\n",
    "    d4 = d3.sort_values(by = 'min')\n",
    "    print(d4)\n",
    "    print('-' * 30)\n",
    "    woe = list(d3['woe'].values)\n",
    "    return d4,iv,woe\n",
    "\n",
    "ninf = float('-inf')\n",
    "pinf = float('inf')\n",
    "cutx3 = [ninf,0,1,3,5,pinf]\n",
    "cutx6 = [ninf,1,2,3,5,pinf]\n",
    "cutx7 = [ninf,0,1,3,5,pinf]\n",
    "cutx8 = [ninf,0,1,2,3,pinf]\n",
    "cutx9 = [ninf,0,1,3,pinf]\n",
    "cutx10 = [ninf,0,1,2,3,5,pinf]\n",
    "\n",
    "dfx3,ivx3,woex3 = self_bin(train['SeriousDlqin2yrs'],train['NumberOfTime30-59DaysPastDueNotWorse'],cutx3)\n",
    "dfx6,ivx6,woex6 = self_bin(train['SeriousDlqin2yrs'],train['NumberOfOpenCreditLinesAndLoans'],cutx6)\n",
    "dfx7,ivx7,woex7 = self_bin(train['SeriousDlqin2yrs'],train['NumberOfTimes90DaysLate'],cutx7)\n",
    "dfx8,ivx8,woex8 = self_bin(train['SeriousDlqin2yrs'],train['NumberRealEstateLoansOrLines'],cutx8)\n",
    "dfx9,ivx9,woex9 = self_bin(train['SeriousDlqin2yrs'],train['NumberOfTime60-89DaysPastDueNotWorse'],cutx9)\n",
    "dfx10,ivx10,woex10 = self_bin(train['SeriousDlqin2yrs'],train['NumberOfDependents'],cutx10)"
   ]
  },
  {
   "cell_type": "markdown",
   "metadata": {},
   "source": [
    "WOE(Weight of Evidence)就是自变量取某个值的时候对违约比例的一种影响，分箱过程中同时计算了证据权重WOE和信息价值IV(Information Value)，前者在建立逻辑回归模型时需要将所有的变量转为WOE，而后者则可以很好的展示变量的预测能力。"
   ]
  },
  {
   "cell_type": "markdown",
   "metadata": {},
   "source": [
    "分箱之后计算了woe，WOE的全称是“Weight of Evidence”，即证据权重。WOE分析是对指标分箱、计算各个档位的WOE值并观察WOE值随指标变化的趋势。\n",
    "\n",
    "WoE的数学定义是:woe=ln(goodattribute/badattribute)。goodattribute计算方式是每个箱子里的好客户数量/数据集里总的好客户数量；badattribute计算方式是每个箱子里的坏客户数量/数据集里总的坏客户数量。\n",
    "\n",
    "不同的特征，最优分箱后产生不同的箱子个数，每一个区间对应一个woe值。最后得到的woex1是列表中存放着x1特征分箱后所有的woe。"
   ]
  },
  {
   "cell_type": "markdown",
   "metadata": {},
   "source": [
    "### 3.2 变量相关性分析"
   ]
  },
  {
   "cell_type": "markdown",
   "metadata": {},
   "source": [
    "用经过清洗后的数据查看变量间的相关性。相关程度用相关系数r表示，-1≤r<1，r的绝对值越大，表示变量之间的相关程度越高，r为负数时，表示一个变量的增加可能引起另一个变量的减少，此时，叫做负相关。"
   ]
  },
  {
   "cell_type": "code",
   "execution_count": 40,
   "metadata": {},
   "outputs": [
    {
     "data": {
      "image/png": "[encoded data removed]",
      "text/plain": [
       "<Figure size 1152x432 with 2 Axes>"
      ]
     },
     "metadata": {},
     "output_type": "display_data"
    }
   ],
   "source": [
    "corr = train_data.corr()\n",
    "xticks = ['x0','x1','x2','x3','x4','x5','x6','x7','x8','x9','x10']\n",
    "yticks = list(corr.index) # y轴标签\n",
    "fig = plt.figure()\n",
    "fig.set_size_inches(16,6)\n",
    "ax1 = fig.add_subplot(111)\n",
    "# 默认是0到1，vmin和vmax可自定义设置\n",
    "sns.heatmap(corr,vmin=-1,vmax=1,cmap='hsv',annot=True,square=True)\n",
    "ax1.set_xticklabels(xticks,rotation=0)\n",
    "ax1.set_yticklabels(yticks,rotation=0)\n",
    "plt.show()"
   ]
  },
  {
   "cell_type": "markdown",
   "metadata": {},
   "source": [
    "各自变量之间的相关性是非常小的，不存在多重共线性问题，如果存在多重共线性，即有可能存在两个变量高度相关，需要降维或剔除处理\n",
    "NumberOfTime30-59DaysPastDueNotWorse，NumberOfTimes90DaysLate和NumberOfTime60-89DaysPastDueNotWorse这三个特征对于所要预测的值SeriousDlqin2yrs(因变量)有较强的相关性"
   ]
  },
  {
   "cell_type": "markdown",
   "metadata": {},
   "source": [
    "### 3.3 IV筛选"
   ]
  },
  {
   "cell_type": "markdown",
   "metadata": {},
   "source": [
    "建模之前需要先检验变量之间的相关性，如果自变量之间具有强相关性，则会影响模型的准确性；如果自变量和因变量之间具有强相关性，则需要重点关注，后续提取特征时需要保留。"
   ]
  },
  {
   "cell_type": "code",
   "execution_count": 41,
   "metadata": {},
   "outputs": [
    {
     "data": {
      "image/png": "[encoded data removed]",
      "text/plain": [
       "<Figure size 432x288 with 1 Axes>"
      ]
     },
     "metadata": {},
     "output_type": "display_data"
    }
   ],
   "source": [
    "ivall = pd.Series([ivx1,ivx2,ivx3,ivx4,ivx5,ivx6,ivx7,ivx8,ivx9,ivx10],\n",
    "                  index = ['x1','x2','x3','x4','x5','x6','x7','x8','x9','x10'])\n",
    "fig = plt.figure()\n",
    "ax1 = fig.add_subplot(111)\n",
    "ivall.plot(kind='bar',ax = ax1)\n",
    "plt.show()"
   ]
  },
  {
   "cell_type": "markdown",
   "metadata": {},
   "source": [
    "DebtRatio、MonthlyIncome、NumberOfOpenCreditLinesAndLoans、NumberRealEstateLoansOrLines和NumberOfDependents变量的IV值明显较低，预测能力差，所以删除"
   ]
  },
  {
   "cell_type": "markdown",
   "metadata": {},
   "source": [
    "## 4 模型分析"
   ]
  },
  {
   "cell_type": "markdown",
   "metadata": {},
   "source": [
    "证据权重（Weight of Evidence,WOE）转换可以将Logistic回归模型转变为标准评分卡格式，在建立模型之前需要将筛选后的变量转换为WoE值，便于信用评分。WOE转换的目的是为了剔除一些变量，原因或者是因为它们不能增加模型值，或者是因为与其模型相关系数有关的误差较大。建立标准信用评分卡也可以不采用WOE转换，但Logistic回归模型需要处理更大数量的自变量，尽管这样会增加建模程序的复杂性，但最终得到的评分卡都是一样的。"
   ]
  },
  {
   "cell_type": "markdown",
   "metadata": {},
   "source": [
    "### 4.1 WOE转换"
   ]
  },
  {
   "cell_type": "markdown",
   "metadata": {},
   "source": [
    "根据之前分箱结果进行woe值替换，并将转化结果构造出模型的训练集，即将选取的特征woe化并舍弃不需要的特征，仅保留woe转码后的变量。"
   ]
  },
  {
   "cell_type": "code",
   "execution_count": 43,
   "metadata": {},
   "outputs": [
    {
     "name": "stdout",
     "output_type": "stream",
     "text": [
      "<class 'pandas.core.frame.DataFrame'>\n",
      "RangeIndex: 101747 entries, 0 to 101746\n",
      "Data columns (total 11 columns):\n",
      " #   Column                                Non-Null Count   Dtype  \n",
      "---  ------                                --------------   -----  \n",
      " 0   SeriousDlqin2yrs                      101747 non-null  int64  \n",
      " 1   RevolvingUtilizationOfUnsecuredLines  101747 non-null  float64\n",
      " 2   age                                   101747 non-null  float64\n",
      " 3   NumberOfTime30-59DaysPastDueNotWorse  101747 non-null  float64\n",
      " 4   DebtRatio                             101747 non-null  float64\n",
      " 5   MonthlyIncome                         101747 non-null  float64\n",
      " 6   NumberOfOpenCreditLinesAndLoans       101747 non-null  float64\n",
      " 7   NumberOfTimes90DaysLate               101747 non-null  float64\n",
      " 8   NumberRealEstateLoansOrLines          101747 non-null  float64\n",
      " 9   NumberOfTime60-89DaysPastDueNotWorse  101747 non-null  float64\n",
      " 10  NumberOfDependents                    101747 non-null  float64\n",
      "dtypes: float64(10), int64(1)\n",
      "memory usage: 8.5 MB\n"
     ]
    }
   ],
   "source": [
    "# WOE转换\n",
    "def replace_woe(series,cut,woe):\n",
    "    list = []\n",
    "    i = 0\n",
    "    while i<len(series):\n",
    "        value = series[i]\n",
    "        j = len(cut) - 2\n",
    "        m = len(cut) - 2\n",
    "        while j >= 0:\n",
    "            if value >= cut[j]:\n",
    "                j = -1\n",
    "            else:\n",
    "                j -= 1\n",
    "                m -= 1\n",
    "        list.append(woe[m])\n",
    "        i += 1\n",
    "    return list\n",
    "\n",
    "train = pd.read_csv('TrainData.csv')\n",
    "train['RevolvingUtilizationOfUnsecuredLines'] = Series(replace_woe(train['RevolvingUtilizationOfUnsecuredLines'],cutx1,woex1))\n",
    "train['age'] = Series(replace_woe(train['age'], cutx2, woex2))\n",
    "train['NumberOfTime30-59DaysPastDueNotWorse'] = Series(replace_woe(train['NumberOfTime30-59DaysPastDueNotWorse'], cutx3, woex3))\n",
    "train['DebtRatio'] = Series(replace_woe(train['DebtRatio'], cutx4, woex4))\n",
    "train['MonthlyIncome'] = Series(replace_woe(train['MonthlyIncome'], cutx5, woex5))\n",
    "train['NumberOfOpenCreditLinesAndLoans'] = Series(replace_woe(train['NumberOfOpenCreditLinesAndLoans'], cutx6, woex6))\n",
    "train['NumberOfTimes90DaysLate'] = Series(replace_woe(train['NumberOfTimes90DaysLate'], cutx7, woex7))\n",
    "train['NumberRealEstateLoansOrLines'] = Series(replace_woe(train['NumberRealEstateLoansOrLines'], cutx8, woex8))\n",
    "train['NumberOfTime60-89DaysPastDueNotWorse'] = Series(replace_woe(train['NumberOfTime60-89DaysPastDueNotWorse'], cutx9, woex9))\n",
    "train['NumberOfDependents'] = Series(replace_woe(train['NumberOfDependents'], cutx10, woex10))\n",
    "train.info()"
   ]
  },
  {
   "cell_type": "code",
   "execution_count": 44,
   "metadata": {},
   "outputs": [
    {
     "name": "stdout",
     "output_type": "stream",
     "text": [
      "<class 'pandas.core.frame.DataFrame'>\n",
      "RangeIndex: 43607 entries, 0 to 43606\n",
      "Data columns (total 11 columns):\n",
      " #   Column                                Non-Null Count  Dtype  \n",
      "---  ------                                --------------  -----  \n",
      " 0   SeriousDlqin2yrs                      43607 non-null  int64  \n",
      " 1   RevolvingUtilizationOfUnsecuredLines  43607 non-null  float64\n",
      " 2   age                                   43607 non-null  float64\n",
      " 3   NumberOfTime30-59DaysPastDueNotWorse  43607 non-null  float64\n",
      " 4   DebtRatio                             43607 non-null  float64\n",
      " 5   MonthlyIncome                         43607 non-null  float64\n",
      " 6   NumberOfOpenCreditLinesAndLoans       43607 non-null  float64\n",
      " 7   NumberOfTimes90DaysLate               43607 non-null  float64\n",
      " 8   NumberRealEstateLoansOrLines          43607 non-null  float64\n",
      " 9   NumberOfTime60-89DaysPastDueNotWorse  43607 non-null  float64\n",
      " 10  NumberOfDependents                    43607 non-null  float64\n",
      "dtypes: float64(10), int64(1)\n",
      "memory usage: 3.7 MB\n"
     ]
    }
   ],
   "source": [
    "test = pd.read_csv('TestData.csv')\n",
    "test['RevolvingUtilizationOfUnsecuredLines'] = Series(replace_woe(test['RevolvingUtilizationOfUnsecuredLines'], cutx1, woex1))\n",
    "test['age'] = Series(replace_woe(test['age'], cutx2, woex2))\n",
    "test['NumberOfTime30-59DaysPastDueNotWorse'] = Series(replace_woe(test['NumberOfTime30-59DaysPastDueNotWorse'], cutx3, woex3))\n",
    "test['DebtRatio'] = Series(replace_woe(test['DebtRatio'], cutx4, woex4))\n",
    "test['MonthlyIncome'] = Series(replace_woe(test['MonthlyIncome'], cutx5, woex5))\n",
    "test['NumberOfOpenCreditLinesAndLoans'] = Series(replace_woe(test['NumberOfOpenCreditLinesAndLoans'], cutx6, woex6))\n",
    "test['NumberOfTimes90DaysLate'] = Series(replace_woe(test['NumberOfTimes90DaysLate'], cutx7, woex7))\n",
    "test['NumberRealEstateLoansOrLines'] = Series(replace_woe(test['NumberRealEstateLoansOrLines'], cutx8, woex8))\n",
    "test['NumberOfTime60-89DaysPastDueNotWorse'] = Series(replace_woe(test['NumberOfTime60-89DaysPastDueNotWorse'], cutx9, woex9))\n",
    "test['NumberOfDependents'] = Series(replace_woe(test['NumberOfDependents'], cutx10, woex10))\n",
    "test.info()"
   ]
  },
  {
   "cell_type": "markdown",
   "metadata": {},
   "source": [
    "### 4.2 Logistic模型建立"
   ]
  },
  {
   "cell_type": "markdown",
   "metadata": {},
   "source": [
    "woe值替换之后选取特征量x1、x2、x3、x7、x9进行模型训练"
   ]
  },
  {
   "cell_type": "code",
   "execution_count": 46,
   "metadata": {},
   "outputs": [
    {
     "name": "stdout",
     "output_type": "stream",
     "text": [
      "Optimization terminated successfully.\n",
      "         Current function value: 0.186784\n",
      "         Iterations 8\n",
      "                           Logit Regression Results                           \n",
      "==============================================================================\n",
      "Dep. Variable:       SeriousDlqin2yrs   No. Observations:               101747\n",
      "Model:                          Logit   Df Residuals:                   101741\n",
      "Method:                           MLE   Df Model:                            5\n",
      "Date:                Wed, 30 Dec 2020   Pseudo R-squ.:                  0.2398\n",
      "Time:                        16:26:15   Log-Likelihood:                -19005.\n",
      "converged:                       True   LL-Null:                       -25000.\n",
      "Covariance Type:            nonrobust   LLR p-value:                     0.000\n",
      "========================================================================================================\n",
      "                                           coef    std err          z      P>|z|      [0.025      0.975]\n",
      "--------------------------------------------------------------------------------------------------------\n",
      "const                                    9.7360      0.113     86.537      0.000       9.515       9.956\n",
      "RevolvingUtilizationOfUnsecuredLines     0.6370      0.016     40.873      0.000       0.606       0.668\n",
      "age                                      0.5056      0.031     16.339      0.000       0.445       0.566\n",
      "NumberOfTime30-59DaysPastDueNotWorse     1.0311      0.030     34.885      0.000       0.973       1.089\n",
      "NumberOfTimes90DaysLate                  1.7885      0.042     42.803      0.000       1.707       1.870\n",
      "NumberOfTime60-89DaysPastDueNotWorse     1.1329      0.046     24.442      0.000       1.042       1.224\n",
      "========================================================================================================\n"
     ]
    }
   ],
   "source": [
    "# Logistic模型建立\n",
    "import statsmodels.api as sm\n",
    "Y = train['SeriousDlqin2yrs']\n",
    "X = train.drop(['SeriousDlqin2yrs','DebtRatio','MonthlyIncome', 'NumberOfOpenCreditLinesAndLoans','NumberRealEstateLoansOrLines','NumberOfDependents'],axis=1)\n",
    "X1 = sm.add_constant(X)\n",
    "logit = sm.Logit(Y,X1)\n",
    "result = logit.fit()\n",
    "print(result.summary())"
   ]
  },
  {
   "cell_type": "markdown",
   "metadata": {},
   "source": [
    "逻辑回归各变量都已通过显著性检验，满足要求"
   ]
  },
  {
   "cell_type": "markdown",
   "metadata": {},
   "source": [
    "### 4.3 模型验证"
   ]
  },
  {
   "cell_type": "markdown",
   "metadata": {},
   "source": [
    "导入测试集的数据测试模型，通过ROC曲线和AUC来评估模型的拟合能力"
   ]
  },
  {
   "cell_type": "code",
   "execution_count": 48,
   "metadata": {},
   "outputs": [
    {
     "data": {
      "image/png": "[encoded data removed]",
      "text/plain": [
       "<Figure size 432x288 with 1 Axes>"
      ]
     },
     "metadata": {},
     "output_type": "display_data"
    }
   ],
   "source": [
    "# 模型验证\n",
    "from sklearn.metrics import roc_curve,auc\n",
    "import matplotlib\n",
    "matplotlib.rcParams['font.sans-serif'] = ['FangSong']\n",
    "matplotlib.rcParams['axes.unicode_minus'] = False\n",
    "Y_test = test['SeriousDlqin2yrs']\n",
    "X_test=test.drop(['SeriousDlqin2yrs','DebtRatio','MonthlyIncome', 'NumberOfOpenCreditLinesAndLoans','NumberRealEstateLoansOrLines','NumberOfDependents'],axis=1)\n",
    "# 通过ROC曲线和AUC评估模型的拟合能力\n",
    "X2 = sm.add_constant(X_test)\n",
    "resu = result.predict(X2)\n",
    "fpr,tpr,threshold = roc_curve(Y_test,resu)\n",
    "rocauc = auc(fpr,tpr)\n",
    "plt.plot(fpr,tpr,'b',label = 'AUC=%0.2f' % rocauc)\n",
    "plt.legend(loc='lower right')\n",
    "plt.plot([0,1],[0,1],'r--')\n",
    "plt.xlabel('False Positive Rate')\n",
    "plt.ylabel('True Positive Rate')\n",
    "plt.show()"
   ]
  },
  {
   "cell_type": "markdown",
   "metadata": {},
   "source": [
    "AUC值为0.85，说明模型的预测能力较好，正确率较高。证明了用当前这五个特征构成信用评分卡的一部分分值是有效的，预测能力较好"
   ]
  },
  {
   "cell_type": "markdown",
   "metadata": {},
   "source": [
    "## 5 信用评分卡构建"
   ]
  },
  {
   "cell_type": "markdown",
   "metadata": {},
   "source": [
    "建立标准评分卡之前需要选取几个评分卡参数：基础分值、 PDO（比率翻倍的分值）和好坏比。此处，基础分值取600分，PDO为20（每高20分好坏比翻一倍），好坏比取20"
   ]
  },
  {
   "cell_type": "markdown",
   "metadata": {},
   "source": [
    "个人总评分= 基础分 + 各部分得分"
   ]
  },
  {
   "cell_type": "code",
   "execution_count": 49,
   "metadata": {},
   "outputs": [
    {
     "name": "stdout",
     "output_type": "stream",
     "text": [
      "基础分: 795.0\n",
      "可用额度比值对应的分数:[24.0, 22.0, 5.0, -20.0]\n",
      "年龄对应的分数:[-8.0, -7.0, -5.0, -5.0, -3.0, -3.0, -2.0, -1.0, 3.0, 5.0, 9.0, 12.0, 15.0, 18.0]\n",
      "逾期30-59天笔数对应的分数:[16.0, -27.0, -52.0, -70.0, -80.0]\n",
      "逾期90天笔数对应的分数:[20.0, -102.0, -142.0, -166.0, -160.0]\n",
      "逾期60-89天笔数对应的分数:[9.0, -60.0, -88.0, -95.0]\n"
     ]
    }
   ],
   "source": [
    "# 计算分数函数\n",
    "def get_score(coe,woe,p):\n",
    "    scores = []\n",
    "    for w in woe:\n",
    "        score = round(coe*w*p,0)\n",
    "        scores.append(score)\n",
    "    return scores\n",
    "\n",
    "# 部分评分x1,x2,x3,x7,x9\n",
    "# j和m相当于j是移动光标，m是跟着j，确定数的\n",
    "def compute_score(series,cut,scores):\n",
    "    i = 0\n",
    "    list = []\n",
    "    while i<len(series):\n",
    "        value = series[i]\n",
    "        j = len(cut) - 2\n",
    "        m = len(cut) - 2\n",
    "        while j >= 0:\n",
    "            if value>=cut[j]:\n",
    "                j = -1\n",
    "            else:\n",
    "                j = j-1\n",
    "                m = m-1\n",
    "        list.append(scores[m])\n",
    "        i = i + 1\n",
    "    return list\n",
    "# list就是在x1里面挑一个值，这个值和series[i]是对应的\n",
    "# score是等于模型系数*woe(一个woe对应一个score)*p值（比例因子）\n",
    "\n",
    "coe=[9.738849,0.638002,0.505995,1.032246,1.790041,1.131956]      # 回归系数\n",
    "import math\n",
    "p = 20 / math.log(2) # p值（比例因子）\n",
    "q = 600 - 20 * math.log(20) / math.log(2)\n",
    "basescore = round(q + p * coe[0],0)\n",
    "# 因为第一个是常数项\n",
    "# 构建评分卡时候需要选出那些IV值高的特征就行，最后相加得到总分\n",
    "x1 = get_score(coe[1],woex1,p)\n",
    "x2 = get_score(coe[2],woex2,p)\n",
    "x3 = get_score(coe[3],woex3,p)\n",
    "x7 = get_score(coe[4],woex7,p)\n",
    "x9 = get_score(coe[5],woex9,p)\n",
    "# x1的四个值分别对应cut的四个区间.PDO Point Dounble Odds,就是好坏比翻一倍，odds就是好坏比\n",
    "print(\"基础分:\", basescore)\n",
    "print(\"可用额度比值对应的分数:{}\".format(x1))\n",
    "print(\"年龄对应的分数:{}\".format(x2))\n",
    "print(\"逾期30-59天笔数对应的分数:{}\".format(x3))\n",
    "print(\"逾期90天笔数对应的分数:{}\".format(x7))\n",
    "print(\"逾期60-89天笔数对应的分数:{}\".format(x9))\n",
    "test1 = pd.read_csv('TestData.csv')\n",
    "test1['BaseScore'] = Series(np.zeros(len(test1)) + basescore)\n",
    "test1['x1'] = Series(compute_score(test1['RevolvingUtilizationOfUnsecuredLines'],cutx1,x1))\n",
    "test1['x2'] = Series(compute_score(test1['age'], cutx2, x2))\n",
    "test1['x3'] = Series(compute_score(test1['NumberOfTime30-59DaysPastDueNotWorse'], cutx3, x3))\n",
    "test1['x7'] = Series(compute_score(test1['NumberOfTimes90DaysLate'], cutx7, x7))\n",
    "test1['x9'] = Series(compute_score(test1['NumberOfTime60-89DaysPastDueNotWorse'], cutx9, x9))\n",
    "test1['score']= test1['BaseScore']+test1['x1']+test1['x2']+test1['x3']+test1['x7']+test1['x9']\n",
    "test1.to_csv('scoredata.csv')"
   ]
  },
  {
   "cell_type": "code",
   "execution_count": 50,
   "metadata": {},
   "outputs": [
    {
     "name": "stdout",
     "output_type": "stream",
     "text": [
      "   SeriousDlqin2yrs  BaseScore    x1    x2    x3     x7    x9  score\n",
      "0                 1      795.0 -20.0  -5.0 -70.0 -142.0 -60.0  498.0\n",
      "1                 1      795.0  22.0   5.0 -27.0 -102.0 -60.0  633.0\n",
      "2                 1      795.0   5.0  -3.0 -27.0 -102.0 -60.0  608.0\n",
      "3                 1      795.0  24.0  12.0 -27.0 -102.0 -60.0  642.0\n",
      "4                 1      795.0  24.0  -5.0 -27.0 -102.0 -60.0  625.0\n"
     ]
    }
   ],
   "source": [
    "print(test1.loc[:,['SeriousDlqin2yrs','BaseScore','x1','x2','x3','x7','x9','score']].head())"
   ]
  },
  {
   "cell_type": "markdown",
   "metadata": {},
   "source": [
    "## 总结"
   ]
  },
  {
   "cell_type": "markdown",
   "metadata": {},
   "source": [
    "挖掘分析kaggle上的数据Give Me Some Credit，结合信用评分卡的建立原理，通过数据预处理、变量选择、建模分析预测等方法，使用了随机森林算法拟合了缺失值，使用pandas包对数据进行了清理，并使用matplotlib、seaborn包将数据可视化，且使用了Logistic回归模型，最后利用模型验证过的部分特征，创建了一个简单的信用评分系统。"
   ]
  },
  {
   "cell_type": "code",
   "execution_count": null,
   "metadata": {},
   "outputs": [],
   "source": []
  }
 ],
 "metadata": {
  "kernelspec": {
   "display_name": "Python 3",
   "language": "python",
   "name": "python3"
  },
  "language_info": {
   "codemirror_mode": {
    "name": "ipython",
    "version": 3
   },
   "file_extension": ".py",
   "mimetype": "text/x-python",
   "name": "python",
   "nbconvert_exporter": "python",
   "pygments_lexer": "ipython3",
   "version": "3.7.7"
  }
 },
 "nbformat": 4,
 "nbformat_minor": 4
}
